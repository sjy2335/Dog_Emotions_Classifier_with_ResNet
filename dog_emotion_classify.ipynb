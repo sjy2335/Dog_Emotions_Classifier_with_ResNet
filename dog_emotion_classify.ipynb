{
  "nbformat": 4,
  "nbformat_minor": 0,
  "metadata": {
    "colab": {
      "provenance": []
    },
    "kernelspec": {
      "name": "python3",
      "display_name": "Python 3"
    },
    "language_info": {
      "name": "python"
    }
  },
  "cells": [
    {
      "cell_type": "code",
      "source": [
        "%matplotlib inline"
      ],
      "metadata": {
        "id": "eDNN82VoznHV"
      },
      "execution_count": 1,
      "outputs": []
    },
    {
      "cell_type": "markdown",
      "source": [
        "###1. 이미지 로드 및 전처리(Augmentation?)"
      ],
      "metadata": {
        "id": "ce8olBJD0neR"
      }
    },
    {
      "cell_type": "code",
      "execution_count": null,
      "metadata": {
        "id": "7BJYRnFJB7RJ"
      },
      "outputs": [],
      "source": []
    },
    {
      "cell_type": "markdown",
      "source": [
        "###(2. 이미지 확인)"
      ],
      "metadata": {
        "id": "6v1A5txB0rCN"
      }
    },
    {
      "cell_type": "code",
      "source": [],
      "metadata": {
        "id": "r49p3sfl0yg1"
      },
      "execution_count": null,
      "outputs": []
    },
    {
      "cell_type": "markdown",
      "source": [
        "###3. Colab GPU 사용 설정"
      ],
      "metadata": {
        "id": "FdoprO_l0xVz"
      }
    },
    {
      "cell_type": "code",
      "source": [],
      "metadata": {
        "id": "z2W6CUzz08vF"
      },
      "execution_count": null,
      "outputs": []
    },
    {
      "cell_type": "markdown",
      "source": [
        "###4. ResNet 아키텍처 구현"
      ],
      "metadata": {
        "id": "4EHnx3hD09Ij"
      }
    },
    {
      "cell_type": "code",
      "source": [
        "import torch.nn as nn\n",
        "import torch.nn.functional as F\n",
        "\n",
        "\n",
        "class Net(nn.Module):\n",
        "    def __init__(self):\n",
        "      super(Net, self).__init__()\n",
        "      #Code Starts here\n",
        "\n",
        "\n",
        "    def forward(self, x):\n",
        "      #Code Starts here\n",
        "      return x"
      ],
      "metadata": {
        "id": "w97Nlyu71DBA"
      },
      "execution_count": null,
      "outputs": []
    },
    {
      "cell_type": "markdown",
      "source": [
        "### 5. Loss Function & Optimizer 정의"
      ],
      "metadata": {
        "id": "7yPCFMoN2vsL"
      }
    },
    {
      "cell_type": "code",
      "source": [
        "import torch.optim as optim\n"
      ],
      "metadata": {
        "id": "cz7VxypD2wFC"
      },
      "execution_count": null,
      "outputs": []
    },
    {
      "cell_type": "markdown",
      "source": [
        "###6. Train the Network"
      ],
      "metadata": {
        "id": "8GAtPgiO2-SA"
      }
    },
    {
      "cell_type": "code",
      "source": [],
      "metadata": {
        "id": "Km4MgObO292Z"
      },
      "execution_count": null,
      "outputs": []
    },
    {
      "cell_type": "markdown",
      "source": [
        "###7. Test the Network on the test data"
      ],
      "metadata": {
        "id": "CDm07KpM3DNE"
      }
    },
    {
      "cell_type": "code",
      "source": [],
      "metadata": {
        "id": "boerNv9V3Znh"
      },
      "execution_count": null,
      "outputs": []
    },
    {
      "cell_type": "markdown",
      "source": [
        "###8. Class(감정)별 정확도 계산"
      ],
      "metadata": {
        "id": "I5AgNokZ3Z98"
      }
    },
    {
      "cell_type": "code",
      "source": [],
      "metadata": {
        "id": "G_CYW1VT3lJT"
      },
      "execution_count": null,
      "outputs": []
    }
  ]
}